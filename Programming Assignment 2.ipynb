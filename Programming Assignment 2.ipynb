{
 "cells": [
  {
   "cell_type": "code",
   "execution_count": 2,
   "id": "305d67a5",
   "metadata": {},
   "outputs": [
    {
     "name": "stdout",
     "output_type": "stream",
     "text": [
      "enter kms100\n",
      "62.13710999999999\n"
     ]
    }
   ],
   "source": [
    "# 1.\tWrite a Python program to convert kilometers to miles?\n",
    "\n",
    "km= float(input(\"enter kms : \"))\n",
    "conversion=  0.6213711\n",
    "miles=float(km* conversion)\n",
    "print(miles)"
   ]
  },
  {
   "cell_type": "code",
   "execution_count": 3,
   "id": "26189405",
   "metadata": {},
   "outputs": [
    {
     "name": "stdout",
     "output_type": "stream",
     "text": [
      "enter celcius100\n",
      "212.0\n"
     ]
    }
   ],
   "source": [
    "#2 .\tWrite a Python program to convert Celsius to Fahrenheit?\n",
    "\n",
    "#(0°C × 9/5) + 32 = 32°F\n",
    "\n",
    "C= float(input(\"enter celcius : \"))\n",
    "F=(C * 9/5)+32\n",
    "print(F)\n",
    "\n",
    "\n"
   ]
  },
  {
   "cell_type": "code",
   "execution_count": 10,
   "id": "f6b0fc99",
   "metadata": {},
   "outputs": [
    {
     "name": "stdout",
     "output_type": "stream",
     "text": [
      "Input month : 04\n",
      "Input year : 1995\n",
      "     April 1995\n",
      "Mo Tu We Th Fr Sa Su\n",
      "                1  2\n",
      " 3  4  5  6  7  8  9\n",
      "10 11 12 13 14 15 16\n",
      "17 18 19 20 21 22 23\n",
      "24 25 26 27 28 29 30\n",
      "\n"
     ]
    }
   ],
   "source": [
    "# 3.\tWrite a Python program to display calendar?\n",
    "\n",
    "import calendar\n",
    "\n",
    "mm=int(input(\"Input month : \"))\n",
    "yy=int(input(\"Input year : \"))\n",
    "\n",
    "print(calendar.month(yy,mm))"
   ]
  },
  {
   "cell_type": "code",
   "execution_count": 18,
   "id": "e9af21b8",
   "metadata": {},
   "outputs": [
    {
     "name": "stdout",
     "output_type": "stream",
     "text": [
      "enter number one : 12\n",
      "enter number second : 11\n",
      "enter number third : 1\n",
      "roots will be real and different\n",
      "-14.735977528094818 -117.2640224719052\n"
     ]
    }
   ],
   "source": [
    "# 4.\tWrite a Python program to solve quadratic equation?\n",
    "\n",
    "#ax^2+bx+c=0\n",
    "import math\n",
    "a=int(input(\"enter number one : \"))\n",
    "b=int(input(\"enter number second : \"))\n",
    "c=int(input(\"enter number third : \"))\n",
    "\n",
    "discriminant= b**2-4*a*c\n",
    "val=math.sqrt(abs(discriminant))\n",
    "\n",
    "if discriminant>0:\n",
    "    print(\"roots will be real and different\")\n",
    "    root1= (-b + val)/2*a\n",
    "    root2= (-b -val)/2*a\n",
    "    \n",
    "elif discriminant==0:\n",
    "    print(\"roots will be real and same\")\n",
    "    root1= (-b + val)/2*a\n",
    "    root2= (-b -val)/2*a\n",
    "    \n",
    "else:\n",
    "    print(\"complex Roots\")\n",
    "    root1= (- b / (2 * a), \" + i\", val) \n",
    "    root2=(- b / (2 * a), \" - i\", val) \n",
    "    \n",
    "\n",
    "print(root1,root2)"
   ]
  },
  {
   "cell_type": "code",
   "execution_count": 13,
   "id": "d076ded2",
   "metadata": {},
   "outputs": [
    {
     "name": "stdout",
     "output_type": "stream",
     "text": [
      "enter number one : 10\n",
      "enter number second : 20\n",
      "10 20\n",
      "20 10\n"
     ]
    }
   ],
   "source": [
    "# 5. 2.\tWrite a Python program to swap two variables without temp variable?\n",
    "\n",
    "a=input(\"enter number one : \")\n",
    "b=input(\"enter number second : \")\n",
    "print(a,b)\n",
    "a,b=b,a\n",
    "print(a,b)"
   ]
  },
  {
   "cell_type": "code",
   "execution_count": null,
   "id": "3541e31e",
   "metadata": {},
   "outputs": [],
   "source": []
  }
 ],
 "metadata": {
  "kernelspec": {
   "display_name": "Python 3 (ipykernel)",
   "language": "python",
   "name": "python3"
  },
  "language_info": {
   "codemirror_mode": {
    "name": "ipython",
    "version": 3
   },
   "file_extension": ".py",
   "mimetype": "text/x-python",
   "name": "python",
   "nbconvert_exporter": "python",
   "pygments_lexer": "ipython3",
   "version": "3.9.7"
  }
 },
 "nbformat": 4,
 "nbformat_minor": 5
}
