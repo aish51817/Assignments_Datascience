{
 "cells": [
  {
   "cell_type": "code",
   "execution_count": 34,
   "id": "c8378db7",
   "metadata": {},
   "outputs": [
    {
     "name": "stdout",
     "output_type": "stream",
     "text": [
      "factorial is = 120\n"
     ]
    }
   ],
   "source": [
    "#1.\tWrite a Python Program to Find the Factorial of a Number?\n",
    "fact=1\n",
    "for i in range(1,6):\n",
    "    fact=fact*i\n",
    "print(\"factorial is =\",fact)\n",
    "    \n",
    "\n",
    "\n",
    "\n"
   ]
  },
  {
   "cell_type": "code",
   "execution_count": 35,
   "id": "513f51f8",
   "metadata": {},
   "outputs": [
    {
     "name": "stdout",
     "output_type": "stream",
     "text": [
      "num * i = 11\n",
      "num * i = 22\n",
      "num * i = 33\n",
      "num * i = 44\n",
      "num * i = 55\n",
      "num * i = 66\n",
      "num * i = 77\n",
      "num * i = 88\n",
      "num * i = 99\n",
      "num * i = 110\n"
     ]
    }
   ],
   "source": [
    "#2.\tWrite a Python Program to Display the multiplication Table?\n",
    "\n",
    "num=11\n",
    "for i in range(1,11):\n",
    "    table=num*i\n",
    "    print(\"num * i =\",table)\n",
    "    "
   ]
  },
  {
   "cell_type": "code",
   "execution_count": 38,
   "id": "b0c08914",
   "metadata": {},
   "outputs": [],
   "source": [
    "#3.\tWrite a Python Program to Print the Fibonacci sequence?\n",
    "\n",
    "a=1\n",
    "fib=0\n",
    "for i in range(1,10):\n",
    "    fib=i\n",
    "    fib=i+1\n",
    "    \n",
    "\n",
    "\n"
   ]
  },
  {
   "cell_type": "code",
   "execution_count": 4,
   "id": "38882505",
   "metadata": {},
   "outputs": [],
   "source": [
    "#4.\tWrite a Python Program to Check Armstrong Number?\n",
    "\n",
    "\n",
    "n = =int(input())\n",
    "s = n\n",
    "b = len(str(n))\n",
    "sum1 = 0\n",
    "while n != 0:\n",
    "    r = n % 10\n",
    "    sum1 = sum1+(r**b)\n",
    "    n = n//10\n",
    "if s == sum1:\n",
    "    print(\"The given number\", s, \"is armstrong number\")\n",
    "else:\n",
    "    print(\"The given number\", s, \"is not armstrong number\")"
   ]
  },
  {
   "cell_type": "code",
   "execution_count": 5,
   "id": "b83061e2",
   "metadata": {},
   "outputs": [],
   "source": [
    "#5.\tWrite a Python Program to Find Armstrong Number in an Interval?\n",
    "\n",
    "\n",
    "lower = 100\n",
    "upper = 2000\n",
    "\n",
    "for num in range(lower, upper + 1):\n",
    "\n",
    "   # order of number\n",
    "   order = len(str(num))\n",
    "    \n",
    "   # initialize sum\n",
    "   sum = 0\n",
    "\n",
    "   temp = num\n",
    "   while temp > 0:\n",
    "       digit = temp % 10\n",
    "       sum += digit ** order\n",
    "       temp //= 10\n",
    "\n",
    "   if num == sum:\n",
    "       print(num)"
   ]
  },
  {
   "cell_type": "code",
   "execution_count": 24,
   "id": "dae0bb8b",
   "metadata": {},
   "outputs": [
    {
     "name": "stdout",
     "output_type": "stream",
     "text": [
      "enter the number of your choice16\n",
      "136\n"
     ]
    }
   ],
   "source": [
    "#6.\tWrite a Python Program to Find the Sum of Natural Numbers?\n",
    "\n",
    "number=int(input(\"enter the number of your choice\"))\n",
    "sum=0\n",
    "for i in range(number+1):\n",
    "    sum=sum+i\n",
    "print(sum)       \n",
    "        \n",
    "    \n",
    "        "
   ]
  },
  {
   "cell_type": "code",
   "execution_count": null,
   "id": "94776156",
   "metadata": {},
   "outputs": [],
   "source": []
  }
 ],
 "metadata": {
  "kernelspec": {
   "display_name": "Python 3 (ipykernel)",
   "language": "python",
   "name": "python3"
  },
  "language_info": {
   "codemirror_mode": {
    "name": "ipython",
    "version": 3
   },
   "file_extension": ".py",
   "mimetype": "text/x-python",
   "name": "python",
   "nbconvert_exporter": "python",
   "pygments_lexer": "ipython3",
   "version": "3.9.7"
  }
 },
 "nbformat": 4,
 "nbformat_minor": 5
}
