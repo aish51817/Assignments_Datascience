{
 "cells": [
  {
   "cell_type": "code",
   "execution_count": 11,
   "id": "45283737",
   "metadata": {},
   "outputs": [
    {
     "name": "stdout",
     "output_type": "stream",
     "text": [
      "Hello Python\n"
     ]
    }
   ],
   "source": [
    "# 1.Write a Python program to print \"Hello Python\"?\n",
    "\n",
    "print(\"Hello Python\")\n"
   ]
  },
  {
   "cell_type": "code",
   "execution_count": 13,
   "id": "2ddf9bea",
   "metadata": {},
   "outputs": [
    {
     "name": "stdout",
     "output_type": "stream",
     "text": [
      "30\n",
      "-10\n",
      "0.5\n",
      "200\n"
     ]
    }
   ],
   "source": [
    "\n",
    "#2.\tWrite a Python program to do arithmetical operations addition and division.?\n",
    "\n",
    "a=10\n",
    "b=20\n",
    "print(a+b)\n",
    "print(a-b)\n",
    "print(a/b)\n",
    "print(a*b)\n"
   ]
  },
  {
   "cell_type": "code",
   "execution_count": 19,
   "id": "47dd3cfe",
   "metadata": {},
   "outputs": [
    {
     "name": "stdout",
     "output_type": "stream",
     "text": [
      "enter the base :10\n",
      "enter the height :20\n",
      "100.0\n"
     ]
    }
   ],
   "source": [
    "#3.\tWrite a Python program to find the area of a triangle?\n",
    "\n",
    "b=float(input(\"enter the base :\"))\n",
    "h=float(input(\"enter the height :\"))\n",
    "Area= .5*b*h\n",
    "print(float(Area))"
   ]
  },
  {
   "cell_type": "code",
   "execution_count": 32,
   "id": "2610b39f",
   "metadata": {},
   "outputs": [
    {
     "name": "stdout",
     "output_type": "stream",
     "text": [
      "10 5\n"
     ]
    }
   ],
   "source": [
    "# 4.\tWrite a Python program to swap two variables?\n",
    "\n",
    "a,b=5,10\n",
    "a,b=b,a\n",
    "print(a,b)\n"
   ]
  },
  {
   "cell_type": "code",
   "execution_count": 29,
   "id": "2ea01a26",
   "metadata": {},
   "outputs": [
    {
     "name": "stdout",
     "output_type": "stream",
     "text": [
      "19\n"
     ]
    }
   ],
   "source": [
    "# 5.\tWrite a Python program to generate a random number?\n",
    "import random\n",
    "\n",
    "a=random.randint(0,100)\n",
    "print(a)"
   ]
  },
  {
   "cell_type": "code",
   "execution_count": 22,
   "id": "73fd62b9",
   "metadata": {},
   "outputs": [
    {
     "ename": "NameError",
     "evalue": "name 'random' is not defined",
     "output_type": "error",
     "traceback": [
      "\u001b[1;31m---------------------------------------------------------------------------\u001b[0m",
      "\u001b[1;31mNameError\u001b[0m                                 Traceback (most recent call last)",
      "\u001b[1;32mC:\\Users\\AISHWA~1\\AppData\\Local\\Temp/ipykernel_23060/343173219.py\u001b[0m in \u001b[0;36m<module>\u001b[1;34m\u001b[0m\n\u001b[1;32m----> 1\u001b[1;33m \u001b[0mrandom\u001b[0m\u001b[1;33m(\u001b[0m\u001b[1;33m)\u001b[0m\u001b[1;33m\u001b[0m\u001b[1;33m\u001b[0m\u001b[0m\n\u001b[0m",
      "\u001b[1;31mNameError\u001b[0m: name 'random' is not defined"
     ]
    }
   ],
   "source": []
  },
  {
   "cell_type": "code",
   "execution_count": null,
   "id": "dfe0e242",
   "metadata": {},
   "outputs": [],
   "source": []
  }
 ],
 "metadata": {
  "kernelspec": {
   "display_name": "Python 3 (ipykernel)",
   "language": "python",
   "name": "python3"
  },
  "language_info": {
   "codemirror_mode": {
    "name": "ipython",
    "version": 3
   },
   "file_extension": ".py",
   "mimetype": "text/x-python",
   "name": "python",
   "nbconvert_exporter": "python",
   "pygments_lexer": "ipython3",
   "version": "3.9.7"
  }
 },
 "nbformat": 4,
 "nbformat_minor": 5
}
