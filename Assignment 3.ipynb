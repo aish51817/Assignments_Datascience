{
 "cells": [
  {
   "cell_type": "code",
   "execution_count": 2,
   "id": "c81116ab",
   "metadata": {},
   "outputs": [
    {
     "name": "stdout",
     "output_type": "stream",
     "text": [
      "Enter the number-1\n",
      "x is Negative\n"
     ]
    }
   ],
   "source": [
    "# 1.\tWrite a Python Program to Check if a Number is Positive, Negative or Zero?\n",
    "\n",
    "x=int(input(\"Enter the number\"))\n",
    "if x==0:\n",
    "    print(\"x is zero\")\n",
    "elif x<0:\n",
    "    print(\"x is Negative\")\n",
    "else:\n",
    "    print(\"x is positive\")"
   ]
  },
  {
   "cell_type": "code",
   "execution_count": 3,
   "id": "264fd1c7",
   "metadata": {},
   "outputs": [
    {
     "name": "stdout",
     "output_type": "stream",
     "text": [
      "Enter the number of your choice21\n",
      "odd\n"
     ]
    }
   ],
   "source": [
    "# 2.\tWrite a Python Program to Check if a Number is Odd or Even?\n",
    "\n",
    "x=int(input(\"Enter the number of your choice\"))\n",
    "if x%2==0:\n",
    "    print(\"Even\")\n",
    "else:\n",
    "    print(\"odd\")\n",
    "    "
   ]
  },
  {
   "cell_type": "code",
   "execution_count": 7,
   "id": "ac2429c5",
   "metadata": {},
   "outputs": [
    {
     "name": "stdout",
     "output_type": "stream",
     "text": [
      "Enter the year2022\n",
      "not leap year\n"
     ]
    }
   ],
   "source": [
    "#3.\tWrite a Python Program to Check Leap Year?\n",
    "\n",
    "#if year is divisible by 400 then is_leap_year\n",
    "#else if year is divisible by 100 then not_leap_year\n",
    "#else if year is divisible by 4 then is_leap_year\n",
    "#else not_leap_year\n",
    "\n",
    "\n",
    "\n",
    "year=int(input(\"Enter the year\"))\n",
    "if year%4==0 or year%400==0:\n",
    "    print(\"leap year\")\n",
    "else:\n",
    "    print(\"not leap year\")"
   ]
  },
  {
   "cell_type": "code",
   "execution_count": 8,
   "id": "f56cd226",
   "metadata": {},
   "outputs": [
    {
     "name": "stdout",
     "output_type": "stream",
     "text": [
      "enter number19\n",
      "prime\n"
     ]
    }
   ],
   "source": [
    "# 4.\tWrite a Python Program to Check Prime Number?\n",
    "\n",
    "n=int(input(\"enter number\"))\n",
    "if n>0:\n",
    "    for i in range(2,n):\n",
    "        if n%i==0:\n",
    "            print(\"not prime\")\n",
    "            break\n",
    "        else:\n",
    "            print(\"prime\")\n",
    "            break\n",
    "else:\n",
    "    print(\"not prime\")            \n",
    "    \n"
   ]
  },
  {
   "cell_type": "code",
   "execution_count": 12,
   "id": "cdca3afc",
   "metadata": {},
   "outputs": [
    {
     "name": "stdout",
     "output_type": "stream",
     "text": [
      "enter number11000000\n",
      "not prime or input another number\n"
     ]
    }
   ],
   "source": [
    "#5.\tWrite a Python Program to Print all Prime Numbers in an Interval of 1-10000?\n",
    "\n",
    "n=int(input(\"enter number\"))\n",
    "if n>1 and n<1000:\n",
    "    for i in range(2,n):\n",
    "        if n%i==0:\n",
    "            print(\"not prime\")\n",
    "            break\n",
    "        else:\n",
    "            print(\"prime\")\n",
    "            break\n",
    "        \n",
    "else:\n",
    "    print(\"not prime or input another number\")"
   ]
  },
  {
   "cell_type": "code",
   "execution_count": null,
   "id": "99bdeeb5",
   "metadata": {},
   "outputs": [],
   "source": []
  }
 ],
 "metadata": {
  "kernelspec": {
   "display_name": "Python 3 (ipykernel)",
   "language": "python",
   "name": "python3"
  },
  "language_info": {
   "codemirror_mode": {
    "name": "ipython",
    "version": 3
   },
   "file_extension": ".py",
   "mimetype": "text/x-python",
   "name": "python",
   "nbconvert_exporter": "python",
   "pygments_lexer": "ipython3",
   "version": "3.9.7"
  }
 },
 "nbformat": 4,
 "nbformat_minor": 5
}
